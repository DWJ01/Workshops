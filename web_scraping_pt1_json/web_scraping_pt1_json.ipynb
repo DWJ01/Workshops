{
 "cells": [
  {
   "cell_type": "markdown",
   "metadata": {},
   "source": [
    "# Web Scraping Part 1: Importing your JSON data into Pandas\n",
    "\n",
    "Now that you have learned how to use Yelp API as well as how to use Pandas, let's combine the two together. You have a JSON file, and let's use this JSON file in Pandas.\n",
    "\n",
    "## 1. Set up a new notebook\n",
    "\n",
    "Just write our canonical import functions."
   ]
  },
  {
   "cell_type": "code",
   "execution_count": null,
   "metadata": {
    "collapsed": true
   },
   "outputs": [],
   "source": [
    "import pandas as pd\n",
    "import json"
   ]
  },
  {
   "cell_type": "markdown",
   "metadata": {},
   "source": [
    "## 2. Open the JSON file\n",
    "\n",
    "This is a little more tricky. Depending on how you have saved the file, you might get some errors. Remember, when I opened my ```data.json``` file, I used ```'w'``` as a method to open it.\n",
    "\n",
    "Write the following."
   ]
  },
  {
   "cell_type": "code",
   "execution_count": null,
   "metadata": {},
   "outputs": [],
   "source": [
    "with open('data.json') as openfile:\n",
    "    data = json.load(openfile)"
   ]
  },
  {
   "cell_type": "markdown",
   "metadata": {},
   "source": [
    "Now your json file is stored in the variable ```data```. Try experimenting a little bit, what does the print out look like?"
   ]
  },
  {
   "cell_type": "code",
   "execution_count": null,
   "metadata": {
    "collapsed": true
   },
   "outputs": [],
   "source": [
    "print(data)"
   ]
  },
  {
   "cell_type": "markdown",
   "metadata": {},
   "source": [
    "Quite messy, right?\n",
    "\n",
    "If you just want to study your data in its raw format, you can import a library called ```pprint```. The first p stands for 'pretty' because it prettifies the print out of this JSON file."
   ]
  },
  {
   "cell_type": "code",
   "execution_count": null,
   "metadata": {
    "collapsed": true
   },
   "outputs": [],
   "source": [
    "import pprint\n",
    "\n",
    "pprint.pprint(data)"
   ]
  },
  {
   "cell_type": "markdown",
   "metadata": {},
   "source": [
    "Now the output looks slightly better. But still not managable for Pandas. You could try ```pd.read_json(data)``` and you will get an error.\n",
    "\n",
    "We need to get it down to a format that is understandable for Pandas. The 'categories' and 'coordinates' cause the error for us since they are nested dictionaries that is a dimension higher than what Pandas can hadnle. Pause here and try to think what could be the solution for this.\n",
    "\n",
    "First, we could get rid of all the categories and coordinates, but then we lose data. Or we could compromise and treat them as a string instead of nested dictionaries. Try the following to create a Pandas DataFrame out of our JSON input."
   ]
  },
  {
   "cell_type": "code",
   "execution_count": null,
   "metadata": {},
   "outputs": [],
   "source": [
    "df = pd.DataFrame(data['businesses'])"
   ]
  },
  {
   "cell_type": "markdown",
   "metadata": {},
   "source": [
    "Now this looks much better! Just to demonstrate how easy it is to create DataFrames try to create a DataFrame from the 0th entry in categories."
   ]
  },
  {
   "cell_type": "code",
   "execution_count": null,
   "metadata": {},
   "outputs": [],
   "source": [
    "pd.DataFrame(df['categories'][0])"
   ]
  },
  {
   "cell_type": "markdown",
   "metadata": {},
   "source": [
    "Congratulations! You finished this workshop."
   ]
  }
 ],
 "metadata": {
  "kernelspec": {
   "display_name": "Python 3",
   "language": "python",
   "name": "python3"
  },
  "language_info": {
   "codemirror_mode": {
    "name": "ipython",
    "version": 3
   },
   "file_extension": ".py",
   "mimetype": "text/x-python",
   "name": "python",
   "nbconvert_exporter": "python",
   "pygments_lexer": "ipython3",
   "version": "3.6.1"
  }
 },
 "nbformat": 4,
 "nbformat_minor": 2
}
